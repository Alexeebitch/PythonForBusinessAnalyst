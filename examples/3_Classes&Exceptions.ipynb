{
 "cells": [
  {
   "cell_type": "markdown",
   "metadata": {},
   "source": [
    "## Классы\n",
    "Классы - это объекты, которые наделены собственными полями(переменными) и методами(функциями)<br>\n",
    "Задача классов - для нас, это создание таких структур, с которыми нам будет удобно работать в коде.<br>\n",
    "### ООП\n",
    "ООП (объектно-ориентированное программирование) - здесь под объектами, за редким исключением понимаются классы. Данный подход в наших задачах можно не использовать вовсе, но стоит рассмотреть, так как практически все что мы будем рассматривать в следующих уроках использует ООП. Так же вернемся к некоторым моментам, рассмотренным ранее и убедимся, что мы уже использовали ООП и классы. "
   ]
  },
  {
   "cell_type": "markdown",
   "metadata": {},
   "source": [
    "Напишем первый класс для того, что бы изучить синтаксис.<br>\n",
    "Пожалуй, в большинстве систем чаще всего приходится работать с живыми данными. Которые регулярно обновляются. У таких данных всегда есть значение и дата регистрации в системе. Давайте создадим такой класс."
   ]
  },
  {
   "cell_type": "code",
   "execution_count": null,
   "metadata": {},
   "outputs": [],
   "source": [
    "class DataPoint: # объявление класса\n",
    "    # Конструктор класса - это специальный метод, для создания конкретного экземпляра.\n",
    "    def __init__( # это метод класса\n",
    "    self,\n",
    "    time: str,\n",
    "    value: int | float\n",
    "    ) -> None:\n",
    "        self.time: str = time # это поле класса\n",
    "        self.value: float = value # это тоже поле класса\n",
    "    \n",
    "    \n",
    "    def add_status( # Это метод класса\n",
    "    self,\n",
    "    status: bool\n",
    "    ) -> None:\n",
    "        self.status = status # это тоже поле класса! Но лучше так не делать\n",
    "        \n",
    "    \n",
    "    def display_point(self) -> None:\n",
    "        print(f'Значение: {self.value} | дата: {self.time}')"
   ]
  },
  {
   "cell_type": "markdown",
   "metadata": {},
   "source": [
    "Разберем более подробно написанный код.\n",
    "1) Что бы объявить класс нужно указать ключевое слово <span style=\"color:red\">class</span>\n",
    "2) На этой же строке дать название классу, в нашем случае <span style=\"color:red\">DataPoint</span>\n",
    "3) После двоеточия указывается тело класса, в нем содержатся метода класса (функции) и поля класса(переменные)"
   ]
  },
  {
   "cell_type": "markdown",
   "metadata": {},
   "source": [
    "<p>\n",
    "    <img src=\"../source/images/StructClass.jpg\"\n",
    "    alt = \"Группировка типов в питоне\"\n",
    "    />\n",
    "</p>"
   ]
  },
  {
   "cell_type": "markdown",
   "metadata": {},
   "source": [
    "Прежде чем переходить к более подробному анализу, хотелось бы сразу уточнить правила хорошего тона при объявлении класса.\n",
    "1) Все метода класса будем называть функциями, которые помещены внутрь класса. К ним применяются те же правила что и к обычным функциям: аннотированние входных параметров, аннотированние типа возвращаемого функцией значения и наименование функций в соотвествии с логикой, которую они выполняют.\n",
    "2) Все поля (переменные) необходимо прописывать в методе <span style=\"color:red\">__init__</span>. Если они не используеются в течении всего времени или опциональны лучше задать их <span style=\"color:red\">None</span>, чем задать вне этого метода.\n"
   ]
  },
  {
   "cell_type": "markdown",
   "metadata": {},
   "source": [
    "#### Что такое <span style=\"color:green\">self</span> ?\n",
    "self - параметр, включается в каждый метод класса.<br>\n",
    "self - это ссылка на текущий объект. Другими словами, self нужен для того, что бы производить вычисления внутри конкретного экземпляра класса.\n",
    "<span style=\"color:red\">!!! Если метод можно написать без self, прнято выносить эту функцию за пределы класса</span>\n",
    "Что бы в рамках данных уроков не вдаваться в подробности более, чем нам это пригодится. Можно обосновать наличе <span style=\"color:red\">self</span> прмерно так: возможность передавать в функцию (метод класса) все что в нем есть целиком, что бы не тратить время на написание большого количества параметров каждый раз когда мы добавляем метод."
   ]
  },
  {
   "cell_type": "code",
   "execution_count": null,
   "metadata": {},
   "outputs": [],
   "source": [
    "# Пример\n",
    "class DataPoint:\n",
    "    def __init__( \n",
    "    self,\n",
    "    time: str,\n",
    "    value: int | float\n",
    "    ) -> None:\n",
    "        self.time: str = time\n",
    "        self.value: float = value\n",
    "    \n",
    "    \n",
    "    def add_status(\n",
    "    self,\n",
    "    status: bool\n",
    "    ) -> None:\n",
    "        self.status = status\n",
    "        \n",
    "    # Можно написать так, что и рекомендуется делать\n",
    "    def display_point(self) -> None:\n",
    "        print(f'Значение: {self.value} | дата: {self.time}')\n",
    "    \n",
    "    # Можно написать так, но в таком случае self бесполезен        \n",
    "    def display_point_2(\n",
    "    self,\n",
    "    value: float,\n",
    "    time: str\n",
    "    ) -> None:\n",
    "        print(f'Значение: {value} | дата: {time}')\n",
    "        \n"
   ]
  },
  {
   "cell_type": "markdown",
   "metadata": {},
   "source": [
    "Теперь рассмотрим создание экземпляра класса и вызов методов"
   ]
  },
  {
   "cell_type": "code",
   "execution_count": null,
   "metadata": {},
   "outputs": [],
   "source": [
    "point_1 = DataPoint(time='11:34', value= 10)\n",
    "# Выведем тип перменной\n",
    "print(type(point_1))\n",
    "# А теперь про удобство использования self\n",
    "point_1.display_point() # мы позаботились об этом заранее и реализовали данный метод\n",
    "point_1.display_point_2(point_1.value, point_1.time)"
   ]
  },
  {
   "cell_type": "markdown",
   "metadata": {},
   "source": [
    "Как видно из примера во втором случае <span style=\"color:red\">self</span> бесполезен, нам все равно нужно передавать аргументы в функцию. "
   ]
  },
  {
   "cell_type": "markdown",
   "metadata": {},
   "source": [
    "#### Что такое <span style=\"color:green\">__init__</span> ?\n",
    "__init__ - это специальное название метода, которое предусмотрено в питоне, для удобства создания экземпляра класса.<br> Где еще можно увидеть?"
   ]
  },
  {
   "cell_type": "code",
   "execution_count": null,
   "metadata": {},
   "outputs": [],
   "source": [
    "# По аналогии c примером, который указан выше создадим экземпляр класса float\n",
    "a = 32 \n",
    "print(type(a)) "
   ]
  },
  {
   "cell_type": "markdown",
   "metadata": {},
   "source": [
    "Пока ничего удивительного, мы видели это и раньше. Но теперь мы знаем что <span style=\"color:red\">int</span> - тоже класс."
   ]
  },
  {
   "cell_type": "code",
   "execution_count": null,
   "metadata": {},
   "outputs": [],
   "source": [
    "# на сомом деле можно сделать по другому\n",
    "a = int(1)"
   ]
  },
  {
   "cell_type": "markdown",
   "metadata": {},
   "source": [
    "В этом моменте Python позволяет просто не писать int, а на самом деле происходит все тоже самое, что и в нашем классе."
   ]
  },
  {
   "cell_type": "markdown",
   "metadata": {},
   "source": [
    "Теперь более наглядно разберем тип данных <span style=\"color:red\">string</span>"
   ]
  },
  {
   "cell_type": "code",
   "execution_count": null,
   "metadata": {},
   "outputs": [],
   "source": [
    "a = 'Текст'\n",
    "a.lower()"
   ]
  },
  {
   "cell_type": "markdown",
   "metadata": {},
   "source": [
    "Как видим <span style=\"color:red\">string</span> - это тоже класс, и у него есть метод <span style=\"color:green\">lower()</span>, который не принимает никаких параметров, кроме <span style=\"color:red\">self</span>, передавать не нужно."
   ]
  },
  {
   "cell_type": "markdown",
   "metadata": {},
   "source": [
    "### Магические методы\n",
    "Магические методы - это названия, которые зарезирвированы в Python для их дальнейшней реализации в классах. Как раз к таким методам относится <span style=\"color:green\">__ self __</span>.<br>\n",
    "Все такие методы начинаются и заканчиваются двумя символами нижнего подчеркивания.<br>\n",
    "Давайте приведем в порядок наш класс. Добавим в него необходимые методы. А так же добавим магические методы."
   ]
  },
  {
   "cell_type": "markdown",
   "metadata": {},
   "source": [
    "#### Основные магические методы\n",
    "1) __init__(self, ...): Метод init используется для инициализации объектов класса. Он вызывается автоматически при создании объекта класса и позволяет вам установить начальное состояние объекта.\n",
    "2) __str__(self): Метод str используется для определения строкового представления объекта. Он вызывается встроенными функциями print() и str() и позволяет вам определить, как объект должен отображаться в виде строки.\n",
    "3) __eq__(self, other): Метод eq используется для определения поведения оператора равенства (==) для объектов класса. Это позволяет вам указать, как объекты класса должны сравниваться на предмет равенства.\n",
    "4) __lt__(self, other): Метод lt используется для определения поведения оператора less-than (<) для объектов класса. Он позволяет вам указать, как объекты класса должны сравниваться.\n",
    "5) __add__(self, other): Метод add используется для определения поведения оператора сложения (+) для объектов класса. Он позволяет вам указать, как объекты класса должны быть добавлены вместе.\n",
    "6) __len__(self): Метод len используется для определения поведения функции len() для объектов класса. Он позволяет вам указать длину объекта."
   ]
  },
  {
   "cell_type": "code",
   "execution_count": null,
   "metadata": {},
   "outputs": [],
   "source": [
    "# попробуем вывести на экран значение переменной point\n",
    "point = DataPoint(time='12:30', value= 213.45)\n",
    "print(point)"
   ]
  },
  {
   "cell_type": "markdown",
   "metadata": {},
   "source": [
    "Получаем непонятный текст - это адрес, по которому находится наша переменная DataPoint. Не очень информативно, давайте напишем магический метод, который будет говорить Python о том, как именно нужно конвертировать в строку наше значение."
   ]
  },
  {
   "cell_type": "code",
   "execution_count": null,
   "metadata": {},
   "outputs": [],
   "source": [
    "class DataPoint:\n",
    "    def __init__( \n",
    "    self,\n",
    "    time: str,\n",
    "    value: int | float\n",
    "    ) -> None:\n",
    "        self.time: str = time\n",
    "        self.value: float = value\n",
    "        self.status: bool = None # во первых добавим все поля, даже те,\n",
    "        # которых может не появиться в __init__.\n",
    "    \n",
    "    # это наш кастомный метод, мы сами дали ему название\n",
    "    def add_status(\n",
    "    self,\n",
    "    status: bool\n",
    "    ) -> None:\n",
    "        self.status = status\n",
    "        \n",
    "    # А этот метод определяет конвертирование в строку\n",
    "    def __str__(self) -> str:\n",
    "        return f'Значение: {self.value} | дата: {self.time}'\n",
    "        "
   ]
  },
  {
   "cell_type": "code",
   "execution_count": null,
   "metadata": {},
   "outputs": [],
   "source": [
    "point = DataPoint(time='12:20', value= 213.45)\n",
    "print(point)"
   ]
  },
  {
   "cell_type": "markdown",
   "metadata": {},
   "source": [
    "Отлично! Теперь мы можем печатать наши точки с данными, функция print сама конвертирует наши точки в строку, так как мы реализовали метод для этого."
   ]
  },
  {
   "cell_type": "markdown",
   "metadata": {},
   "source": [
    "## Подводя итоги по классам\n",
    "Классы - это удобный инструмент, в дальнейшем мы будем прибегать к ним в коде, но не слишком часто.<br>\n",
    "Для более глубокого понимания классов рекомендуется потратить доплнительное время на изучения.<br>"
   ]
  },
  {
   "cell_type": "markdown",
   "metadata": {},
   "source": [
    "### Про что это такое эти ваши классы?\n",
    "Для нас функциональное удобство будет представлять возможность классов агрегировать функции и переменные в одном типе данных."
   ]
  },
  {
   "cell_type": "markdown",
   "metadata": {},
   "source": [
    "### Можно ли без классов? \n",
    "В Python однозначно можно без классов"
   ]
  },
  {
   "cell_type": "markdown",
   "metadata": {},
   "source": [
    "### Зачем я это читал?\n",
    "Потому что в дальнейшем придется часто работать с классами, которые написали другие разработчики, что бы не писать кучу кода самим. Для того, что бы понимать как устроены эти классы."
   ]
  },
  {
   "cell_type": "markdown",
   "metadata": {},
   "source": [
    "### Можно реальный кейс, где я буду прменять классы?\n",
    "Мы практически его написали, давайте закончим нашу работу."
   ]
  },
  {
   "cell_type": "markdown",
   "metadata": {},
   "source": [
    "Представим, что у нас есть ненадежный источник данных, который присылает нам данные. Так как источник ненадежный (даже если разработчики очень очень обещали что все будет работать идеально) - нам нужно валидировать эти данные."
   ]
  },
  {
   "cell_type": "markdown",
   "metadata": {},
   "source": [
    "Задачи:\n",
    "1) Получив данные, нужно проверить что они удовлетворяют нашему формату;\n",
    "2) Нам нужно получать из всего множества точек только те, которые являются достоверными, то есть имеют статус True;"
   ]
  },
  {
   "cell_type": "code",
   "execution_count": null,
   "metadata": {},
   "outputs": [],
   "source": [
    "\n",
    "def validate_time(time: str) -> str:\n",
    "    lst = time.split(sep = ':') # делим строку через двоеточие\n",
    "    if len(lst) == 2: # если количество элементов 2 (часы и минуты)\n",
    "        if int(lst[0]) < 24 and int(lst[0]) >= 0: # если количество часов меньше 24\n",
    "            if int(lst[1]) < 60 and int(lst[1]) >= 0: # если количество минут меньше 60\n",
    "                    return time\n",
    "\n",
    "class DataPoint:\n",
    "    def __init__( \n",
    "    self,\n",
    "    time: str,\n",
    "    value: int | float,\n",
    "    status: bool = None\n",
    "    ) -> None:\n",
    "        self.time: str = validate_time(time) # давайте будеи валидировать данные\n",
    "        #и записывать только те, которые подходят под наш формат\n",
    "        self.value: float = value\n",
    "        self.status: bool = status # во первых добавим все поля, даже те,\n",
    "        # которых может не появиться в __init__.\n",
    "    \n",
    "    # это наш кастомный метод, мы сами дали ему название\n",
    "    def add_status(\n",
    "    self,\n",
    "    status: bool\n",
    "    ) -> None:\n",
    "        self.status = status\n",
    "        \n",
    "    # А этот метод определяет конвертирование в строку\n",
    "    def __str__(self) -> str:\n",
    "        return f'Значение: {self.value} | дата: {self.time}'\n",
    "    \n",
    "    def __repr__(self) -> str:\n",
    "        return self.__str__()"
   ]
  },
  {
   "cell_type": "markdown",
   "metadata": {},
   "source": [
    "Зададим массив точек, которые к нам приходят (скорее всегов JSON формате)"
   ]
  },
  {
   "cell_type": "code",
   "execution_count": null,
   "metadata": {},
   "outputs": [],
   "source": [
    "\n",
    "points = [\n",
    "    {\n",
    "        'time': '22:03',\n",
    "        'value': 123.3,\n",
    "        'status': True\n",
    "    },\n",
    "    {\n",
    "        'time': '12:20',\n",
    "        'value': 147.4,\n",
    "        'status': False\n",
    "    },\n",
    "    {\n",
    "        'time': '05:43',\n",
    "        'value': 180.1\n",
    "    },\n",
    "    {\n",
    "        'time': '10:09',\n",
    "        'value': 161.0\n",
    "    },\n",
    "    {\n",
    "        'time': '15:15',\n",
    "        'value': 159.87,\n",
    "        'status': True\n",
    "    }\n",
    "]"
   ]
  },
  {
   "cell_type": "markdown",
   "metadata": {},
   "source": [
    "Конвертируем все полученные словари в перемнную типа DataPoint"
   ]
  },
  {
   "cell_type": "code",
   "execution_count": null,
   "metadata": {},
   "outputs": [],
   "source": [
    "data_points = [DataPoint(**point) for point in points]"
   ]
  },
  {
   "cell_type": "markdown",
   "metadata": {},
   "source": [
    "Теперь возьмем только те точки, у которых статус True"
   ]
  },
  {
   "cell_type": "code",
   "execution_count": null,
   "metadata": {},
   "outputs": [],
   "source": [
    "data_point_true = [x for x in data_points if x.status == True]\n",
    "data_point_true"
   ]
  },
  {
   "cell_type": "markdown",
   "metadata": {},
   "source": [
    "А теперь, предположим что с нашего воображаемого ресурса пришли некорректные значения времени"
   ]
  },
  {
   "cell_type": "code",
   "execution_count": null,
   "metadata": {},
   "outputs": [],
   "source": [
    "points.append({'time': '15:1dsfdsfsf5', 'value': 159.87,})"
   ]
  },
  {
   "cell_type": "markdown",
   "metadata": {},
   "source": [
    "Попробуем проделать ту же операцию"
   ]
  },
  {
   "cell_type": "code",
   "execution_count": null,
   "metadata": {},
   "outputs": [],
   "source": [
    "data_points = [DataPoint(**point) for point in points]"
   ]
  },
  {
   "cell_type": "markdown",
   "metadata": {},
   "source": [
    "Наш валидатор говорит о том, что невозможно провреить одно значение. После чего завершает выполнение программы.<br>\n",
    "Соответственно исходя из нашей логики, что точек у нас будет миллион, не очень то хочется прерывать выполнение программы из за одной битой даты.<br>\n",
    "Давайте исправим это в главе <span style=\"color:green\">обработка ошибок</span>."
   ]
  },
  {
   "cell_type": "markdown",
   "metadata": {},
   "source": [
    " ## Обработка ошибок\n",
    " Здесь мы рассмотрим только один пример, так как углубляться в иерархию ошибок в Python может потребовать большого количества времени."
   ]
  },
  {
   "cell_type": "markdown",
   "metadata": {},
   "source": [
    "1) Где могут возникать ошибки? - В любой части программы.\n",
    "2) Какие бывают ошибки? - ошибки бывают самые разные, от ошибки приведения типа, как в нашем случае, до ошибок операционной системой. Деление на ноль в программировании - тоже ошибка.\n",
    "3) Можно ли отлавилвать ошибки, что бы программа не завершалась? - Нужно\n",
    "4) Как это сделать? - сейчас наглядно разберем."
   ]
  },
  {
   "cell_type": "markdown",
   "metadata": {},
   "source": [
    "Разберем конкретно нашу ошибку.<br>\n",
    "Наша ошибка возникает из за того, что мы пытаемся привести к целочисленному типу строку \"15:1dsfdsfsf5\""
   ]
  },
  {
   "cell_type": "markdown",
   "metadata": {},
   "source": [
    "Воспроизведем ошибку"
   ]
  },
  {
   "cell_type": "code",
   "execution_count": null,
   "metadata": {},
   "outputs": [],
   "source": [
    "int(\"15:1dsfdsfsf5\")"
   ]
  },
  {
   "cell_type": "markdown",
   "metadata": {},
   "source": [
    "В питоне есть целая иерархия ошибок.<br>\n",
    "В нашем случае, мы будем использовать только одну. Всегда. Exception."
   ]
  },
  {
   "cell_type": "code",
   "execution_count": null,
   "metadata": {},
   "outputs": [],
   "source": [
    "try:\n",
    "    int(\"15:1dsfdsfsf5\")\n",
    "except Exception as ex:\n",
    "    print(ex)\n",
    "    print(\"Не удалось преобразовать значение в число\")"
   ]
  },
  {
   "cell_type": "markdown",
   "metadata": {},
   "source": [
    "На ближайшее время - это наш самый лучший друг в Python.\n",
    "Проьба запомнить эту конструкцию.\n",
    "Она работает вот так:\n",
    "<p>\n",
    "<center>\n",
    "    <img src=\"../source/images/Exception.jpg\"\n",
    "    width=\"500\"\n",
    "    height=\"300\"\n",
    "    />\n",
    "</center>\n",
    "</p>"
   ]
  },
  {
   "cell_type": "markdown",
   "metadata": {},
   "source": [
    "Транслируем новоизученную фичу в наш код с классами и валидацией."
   ]
  },
  {
   "cell_type": "code",
   "execution_count": null,
   "metadata": {},
   "outputs": [],
   "source": [
    "def validate_time(time: str) -> str:\n",
    "    try:\n",
    "        lst = time.split(sep = ':') # делим строку через двоеточие\n",
    "        if len(lst) == 2: # если количество элементов 2 (часы и минуты)\n",
    "            if int(lst[0]) < 24 and int(lst[0]) >= 0: # если количество часов меньше 24\n",
    "                if int(lst[1]) < 60 and int(lst[1]) >= 0: # если количество минут меньше 60\n",
    "                        return time\n",
    "    except Exception as ex:\n",
    "        print(ex)\n",
    "        print(\"Не удалось преобразовать значение в число\")\n",
    "        return \"00:00\"\n",
    "\n",
    "class DataPoint:\n",
    "    def __init__( \n",
    "    self,\n",
    "    time: str,\n",
    "    value: int | float,\n",
    "    status: bool = None\n",
    "    ) -> None:\n",
    "        self.time: str = validate_time(time) # давайте будеи валидировать данные\n",
    "        #и записывать только те, которые подходят под наш формат\n",
    "        self.value: float = value\n",
    "        self.status: bool = status # во первых добавим все поля, даже те,\n",
    "        # которых может не появиться в __init__.\n",
    "    \n",
    "    # это наш кастомный метод, мы сами дали ему название\n",
    "    def add_status(\n",
    "    self,\n",
    "    status: bool\n",
    "    ) -> None:\n",
    "        self.status = status\n",
    "        \n",
    "    # А этот метод определяет конвертирование в строку\n",
    "    def __str__(self) -> str:\n",
    "        return f'Значение: {self.value} | дата: {self.time}'\n",
    "    \n",
    "    def __repr__(self) -> str:\n",
    "        return self.__str__()"
   ]
  },
  {
   "cell_type": "markdown",
   "metadata": {},
   "source": [
    "Попробуем запустить нашу функцию"
   ]
  },
  {
   "cell_type": "code",
   "execution_count": null,
   "metadata": {},
   "outputs": [],
   "source": [
    "data_points = [DataPoint(**point) for point in points]\n",
    "data_points"
   ]
  },
  {
   "cell_type": "markdown",
   "metadata": {},
   "source": [
    "Теперь наша точка с битой датой нас полностью удовлетворяет, при этом значение битой даты заменено на 00:00"
   ]
  },
  {
   "cell_type": "markdown",
   "metadata": {},
   "source": [
    " ## Литература\n",
    " 1) https://habr.com/ru/articles/463125/\n",
    " 2) https://habr.com/ru/articles/186608/\n",
    " 3) https://proglib.io/p/vvedenie-v-obektno-orientirovannoe-programmirovanie-oop-na-python-2020-07-23\n",
    " 4) https://tproger.ru/articles/gajd-po-magicheskim-metodam-v-python"
   ]
  }
 ],
 "metadata": {
  "kernelspec": {
   "display_name": "Python 3",
   "language": "python",
   "name": "python3"
  },
  "language_info": {
   "codemirror_mode": {
    "name": "ipython",
    "version": 3
   },
   "file_extension": ".py",
   "mimetype": "text/x-python",
   "name": "python",
   "nbconvert_exporter": "python",
   "pygments_lexer": "ipython3",
   "version": "3.12.4"
  }
 },
 "nbformat": 4,
 "nbformat_minor": 2
}
