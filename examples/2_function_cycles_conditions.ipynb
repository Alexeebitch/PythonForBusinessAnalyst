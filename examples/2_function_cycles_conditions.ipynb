{
 "cells": [
  {
   "cell_type": "markdown",
   "metadata": {},
   "source": [
    " ## Функции\n",
    "Функция в программировании — это отдельный блок программы, который выполняет одно конкретное действие. Обычно функции выглядят как маленькие программы внутри основного кода, и их можно запускать в разные моменты времени."
   ]
  },
  {
   "cell_type": "markdown",
   "metadata": {},
   "source": [
    "Функция может принимать аргументы, и возврщать значение. Если объяснять простым языком, то функция может принимать переменные (они то и называются аргументам), проводить с ними какие либо манипуляции и возвращать значения. При этом есть функции которые ничего не принимают и ничего не возвращают. Давайте напишем первую функцию."
   ]
  },
  {
   "cell_type": "code",
   "execution_count": 1,
   "metadata": {},
   "outputs": [
    {
     "name": "stdout",
     "output_type": "stream",
     "text": [
      "Hello world!\n"
     ]
    }
   ],
   "source": [
    "# Класика Hello, world!\n",
    "def hello():\n",
    "    print(\"Hello, world!\")\n",
    "    \n",
    "hello()"
   ]
  },
  {
   "cell_type": "markdown",
   "metadata": {},
   "source": [
    "Давайте разберем более подробно код, который мы только что запустили.<br>\n",
    "Во второй строке мы объявили функцию и дали ей навазние.<br>\n",
    "Объявление функции в питоне начинается с ключевого слова <span style=\"color:red\">def</span>.<br>\n",
    "После этого мы поставлил пустые скобки <span style=\"color:red\">()</span> в них можно указывать аргументы, которые принимает функция, в нашем случае функция ничего не принимает.<br>\n",
    "Далее после двоеточия мы пишем тело функции в нашем случае функция <span style=\"color:red\">hello</span> внутри вызывает другую функцию <span style=\"color:red\">print</span>, которую мы не писали, но которая встоена в Python.<br>\n",
    "В функцию <span style=\"color:red\">print</span> мы передали аргумент - строку.<br>\n",
    "После чего вызвали нашу функцию <span style=\"color:red\">hello</span>."
   ]
  },
  {
   "cell_type": "markdown",
   "metadata": {},
   "source": [
    "Давайте напишем другую функцию, которая будет принимать аргументы и возвращать значение."
   ]
  },
  {
   "cell_type": "code",
   "execution_count": 5,
   "metadata": {},
   "outputs": [
    {
     "data": {
      "text/plain": [
       "600"
      ]
     },
     "execution_count": 5,
     "metadata": {},
     "output_type": "execute_result"
    }
   ],
   "source": [
    "def foo(a,b):\n",
    "    c = a * b\n",
    "    return c\n",
    "foo(20,30)"
   ]
  },
  {
   "cell_type": "markdown",
   "metadata": {},
   "source": [
    "На этом примере можно разобрать структуру функций в питоне\n",
    "<p>\n",
    "    <img src=\"../source/images/StructOfFunction.jpg\"\n",
    "    alt = \"Группировка типов в питоне\"\n",
    "    />\n",
    "</p>"
   ]
  },
  {
   "cell_type": "markdown",
   "metadata": {},
   "source": [
    "Функция выполняет свою задачу, но теперь непонятно, что делает функция. Если вспомнить, о чем было написано в первом уроке, то можно переписать эту функцию с аннотацией."
   ]
  },
  {
   "cell_type": "code",
   "execution_count": null,
   "metadata": {},
   "outputs": [],
   "source": [
    "def foo(a:int,b:float):\n",
    "    return a * b\n",
    "foo(20,30)"
   ]
  },
  {
   "cell_type": "markdown",
   "metadata": {},
   "source": [
    "Уже лучше, но все равно много вопросов. Давайте назовем переменные в соотвествии со здравым смыслом, и фукнцию тоже."
   ]
  },
  {
   "cell_type": "code",
   "execution_count": 3,
   "metadata": {},
   "outputs": [
    {
     "data": {
      "text/plain": [
       "600"
      ]
     },
     "execution_count": 3,
     "metadata": {},
     "output_type": "execute_result"
    }
   ],
   "source": [
    "def raschet_massi_slonov(kolichestvo_slonov:int, massa_slona_v_tonnah: float):\n",
    "    return kolichestvo_slonov * massa_slona_v_tonnah\n",
    "raschet_massi_slonov(20,30)"
   ]
  },
  {
   "cell_type": "markdown",
   "metadata": {},
   "source": [
    "Уже ясно из названия и принимаемых аргументов, что выполняет функция.<br>\n",
    "В python можно аннатировать не только переменные и аргументы, но и тип возвращаемого значения, давайте добавим аннотацию возвращаемого значения, а заодно вынесем аргументы на ранзные строки."
   ]
  },
  {
   "cell_type": "code",
   "execution_count": 4,
   "metadata": {},
   "outputs": [
    {
     "data": {
      "text/plain": [
       "600"
      ]
     },
     "execution_count": 4,
     "metadata": {},
     "output_type": "execute_result"
    }
   ],
   "source": [
    "def raschet_massi_slonov(\n",
    "kolichestvo_slonov:int,\n",
    "massa_slona_v_tonnah: float\n",
    ") -> float: # <- вот так добавляется аннотация возвращаемого функцией значения\n",
    "    return kolichestvo_slonov * massa_slona_v_tonnah\n",
    "\n",
    "raschet_massi_slonov(20,30)"
   ]
  },
  {
   "cell_type": "markdown",
   "metadata": {},
   "source": [
    "Теперь уже гораздо лучше, мы знаем какие переменные принимает наша функция, какие типы данных у этих переменных, а так же знаем какой тип данных вернет наша функция, теперь при использовании ее в коде, мы не запутаемся, даже спустя 1000 строк кода. Но давайте напишем очень хороший пример функций для нас. Для этого небходимо добавить описаниие функции."
   ]
  },
  {
   "cell_type": "code",
   "execution_count": null,
   "metadata": {},
   "outputs": [],
   "source": [
    "def raschet_massi_slonov(\n",
    "kolichestvo_slonov:int,\n",
    "massa_slona_v_tonnah: float\n",
    ") -> float:\n",
    "    \"\"\"Эта функция для расчета общей массы всех слонов\n",
    "\n",
    "    Args:\n",
    "        kolichestvo_slonov (int): этот аргумент отвечает за количество слонов\n",
    "        massa_slona_v_tonnah (float): этот аргумент отвечает за массу одного слона\n",
    "\n",
    "    Returns:\n",
    "        float: расчиатанная масса всех слонов\n",
    "    \"\"\"\n",
    "    return kolichestvo_slonov * massa_slona_v_tonnah"
   ]
  },
  {
   "cell_type": "markdown",
   "metadata": {},
   "source": [
    "Для чего это сейчас нужно?<br>\n",
    "Вы можете писать функции как вам удобно, называть их как вам удобно, хорошо, если вы уверены, что не запутайтесь. Но давайте представим что вы уже далеко от той части где вы написали свою функцию.<br>\n",
    "В коде ниже вызовем 2 функции которые мы разобрали, у которых идентичная задача: подсчет массы слонов.<br>\n",
    "Наведите курсор на первую функцию <span style=\"color:red\">foo</span>, а затем наведите на функцию <span style=\"color:green\">raschet_massi_slonov</span>. Думаю все станет понятно."
   ]
  },
  {
   "cell_type": "code",
   "execution_count": null,
   "metadata": {},
   "outputs": [],
   "source": [
    "foo(20,30)\n",
    "raschet_massi_slonov(20,30)"
   ]
  },
  {
   "cell_type": "markdown",
   "metadata": {},
   "source": [
    "#### Про что вообще ваши функции??? Для чего они нужны, когда можно писать код без них?"
   ]
  },
  {
   "cell_type": "markdown",
   "metadata": {},
   "source": [
    "Давайте представим, что у нас стоит задача вернуть первый, третий, предпоследний и последний элемент из трех массивов."
   ]
  },
  {
   "cell_type": "code",
   "execution_count": 7,
   "metadata": {},
   "outputs": [
    {
     "name": "stdout",
     "output_type": "stream",
     "text": [
      "[90, 53, 5, 8]\n",
      "[0, 5, 65, 432]\n",
      "[32, 38563, 3425, 6763]\n"
     ]
    }
   ],
   "source": [
    "#Зададим массивы\n",
    "mas_1 = [90,24,53,2131,435,23,5,8]\n",
    "mas_2 = [0,213,5,4,9,8,654,2,45,76,32,5,67,65,432]\n",
    "mas_3 = [32,653,38563,236,7,6358434,2,23,35,63,23,372,3,467,3,236,5468,3425,6763]\n",
    "# Теперь давайте напишем для каждого массива подмассив, куда будем помещать значения\n",
    "mas_1_result = []\n",
    "mas_2_result = []\n",
    "mas_3_result = []\n",
    "# Теперь, возвращаясь к первому уроку вспомним об индексации и начнеи наполнение списков\n",
    "mas_1_result.append(mas_1[0])\n",
    "mas_1_result.append(mas_1[2])\n",
    "mas_1_result.append(mas_1[-2])\n",
    "mas_1_result.append(mas_1[-1])\n",
    "\n",
    "mas_2_result.append(mas_2[0])\n",
    "mas_2_result.append(mas_2[2])\n",
    "mas_2_result.append(mas_2[-2])\n",
    "mas_2_result.append(mas_2[-1])\n",
    "\n",
    "mas_3_result.append(mas_3[0])\n",
    "mas_3_result.append(mas_3[2])\n",
    "mas_3_result.append(mas_3[-2])\n",
    "mas_3_result.append(mas_3[-1])\n",
    "\n",
    "print(mas_1_result)\n",
    "print(mas_2_result)\n",
    "print(mas_3_result)\n"
   ]
  },
  {
   "cell_type": "markdown",
   "metadata": {},
   "source": [
    "Все работает, и с поставленной задачей мы справились. Но можно заметить, что во всех трех случаях мы проивзодим одну и ту же последовательность действий:\n",
    "1) создаем пустой массив\n",
    "2) заполняем его первым значением\n",
    "3) заполняем его третьим значением\n",
    "4) заполняем его предпоследним значением\n",
    "5) заполняем его последним значением\n",
    "\n",
    "Ведь в коде меняются только переменные, к которым мы обращаемся, а значит эту логику можно занести в функцию и вызвать ее три раза подряд"
   ]
  },
  {
   "cell_type": "code",
   "execution_count": 8,
   "metadata": {},
   "outputs": [
    {
     "name": "stdout",
     "output_type": "stream",
     "text": [
      "[90, 53, 5, 8]\n",
      "[0, 5, 65, 432]\n",
      "[32, 38563, 3425, 6763]\n"
     ]
    }
   ],
   "source": [
    "# Поместим в нашу функцию ровно ту логику, к которой мы прибегли изначально\n",
    "\n",
    "def get_indexes(\n",
    "lst: list\n",
    ") -> list:\n",
    "    \n",
    "    result: list = []\n",
    "    \n",
    "    result.append(lst[0])\n",
    "    result.append(lst[2])\n",
    "    result.append(lst[-2])\n",
    "    result.append(lst[-1])\n",
    "    \n",
    "    return result\n",
    "\n",
    "mas_1 = [90,24,53,2131,435,23,5,8]\n",
    "mas_2 = [0,213,5,4,9,8,654,2,45,76,32,5,67,65,432]\n",
    "mas_3 = [32,653,38563,236,7,6358434,2,23,35,63,23,372,3,467,3,236,5468,3425,6763]\n",
    "\n",
    "# Запишем результат в выполнени функции в переменные\n",
    "mas_1_result = get_indexes(mas_1)\n",
    "mas_2_result = get_indexes(mas_2)\n",
    "mas_3_result = get_indexes(mas_3)\n",
    "\n",
    "print(mas_1_result)\n",
    "print(mas_2_result)\n",
    "print(mas_3_result)\n"
   ]
  },
  {
   "cell_type": "markdown",
   "metadata": {},
   "source": [
    "Если коротко, то функции вот про это - агрегирование последовательности действий, если эти действия выполняются в коде более одного раза и применяются к разным переменным."
   ]
  },
  {
   "cell_type": "markdown",
   "metadata": {},
   "source": [
    "#### Несколько дополнительного функционала"
   ]
  },
  {
   "cell_type": "markdown",
   "metadata": {},
   "source": [
    "Допустим, нам нужно рпсчитывать сколько живет людей в России на конкретном участке от площади и плотности населения. Давайте реализуем такую функцию."
   ]
  },
  {
   "cell_type": "code",
   "execution_count": 10,
   "metadata": {},
   "outputs": [],
   "source": [
    "def amount_humans(\n",
    "area: float,\n",
    "density: float\n",
    ") -> float:\n",
    "    \"\"\"Функция для вычисления количества населения на определенном участке России\n",
    "\n",
    "    Args:\n",
    "        area (float): площадь в км2\n",
    "        density (float): плотность населения в чел/км2\n",
    "\n",
    "    Returns:\n",
    "        float: количество людей\n",
    "    \"\"\"\n",
    "    result = area * density # <- умножим площадь на плотность населения\n",
    "    return int(result) # <- не забудем перевести к целочтсленному типу, так как полчеловека, скорее всего не живет нигде"
   ]
  },
  {
   "cell_type": "markdown",
   "metadata": {},
   "source": [
    "Отлично, мы написали функцию, теперь давайте вызовем ее для Москвы. А заодно рассмотрим как можно передавать аргументы в функцию."
   ]
  },
  {
   "cell_type": "code",
   "execution_count": 11,
   "metadata": {},
   "outputs": [
    {
     "data": {
      "text/plain": [
       "12657524"
      ]
     },
     "execution_count": 11,
     "metadata": {},
     "output_type": "execute_result"
    }
   ],
   "source": [
    "amount_humans(\n",
    "area = 2561.5, # это называется явной передачей аргумента.\n",
    "density = 4941.45\n",
    ")"
   ]
  },
  {
   "cell_type": "markdown",
   "metadata": {},
   "source": [
    "Отлично, мы получили результат, который как говорят надо умножать на 2."
   ]
  },
  {
   "cell_type": "markdown",
   "metadata": {},
   "source": [
    "Но вот площадь того или иного участка как правило, можно узнать без проблем. А вот плотность населения в этом районе уже нет. Первое, что приходит на ум взять среднюю плотность населения России. Отлично, но каждый раз передавать в функцию одно и тоже значение - это не очень удобно, еще и с условием, что этого можно избежать. Давайте перепишем функцию следующим образом:"
   ]
  },
  {
   "cell_type": "code",
   "execution_count": 12,
   "metadata": {},
   "outputs": [],
   "source": [
    "def amount_humans(\n",
    "area: float,\n",
    "density: float = 8.55 # Это называется значение по умолчанию\n",
    ") -> float:\n",
    "    \"\"\"Функция для вычисления количества населения на определенном участке России\n",
    "\n",
    "    Args:\n",
    "        area (float): площадь в км2\n",
    "        density (float): плотность населения в чел/км2\n",
    "\n",
    "    Returns:\n",
    "        float: количество людей\n",
    "    \"\"\"\n",
    "    result = area * density # <- умножим площадь на плотность населения\n",
    "    return int(result) # <- не забудем перевести к целочтсленному типу, так как полчеловека, скорее всего не живет нигде"
   ]
  },
  {
   "cell_type": "markdown",
   "metadata": {},
   "source": [
    "Мы добавили при объявлении функции значение по умолчанию, теперь, если мы захотим расчиатать количество людей на определенной территории, нам достаточно передать только ее площадь. Давайте вызовем функцию "
   ]
  },
  {
   "cell_type": "code",
   "execution_count": 13,
   "metadata": {},
   "outputs": [
    {
     "data": {
      "text/plain": [
       "874"
      ]
     },
     "execution_count": 13,
     "metadata": {},
     "output_type": "execute_result"
    }
   ],
   "source": [
    "amount_humans(\n",
    "area= 102.3\n",
    ")"
   ]
  },
  {
   "cell_type": "markdown",
   "metadata": {},
   "source": [
    "Да, в нашем примере может существовать большая погрешность, но тем не менее, мы можем не тратить время на передачу одного и того же числа, если мы не знаем плотность населения на определенном участке."
   ]
  },
  {
   "cell_type": "markdown",
   "metadata": {},
   "source": [
    "##### Любая функция что то возвращает.\n",
    "Вернемся к нашей самой первой функции \"hello\".<br>\n",
    "В ней нету ключего слова return, а следовательно, она ничего не должна вернуть.<br>\n",
    "Но как показано в первом уроке НИЧЕГО - это тоже тип данных - None.<br>\n",
    "Давайте попробуем записать результат выполнения нашей функции в переменную и вывести ее."
   ]
  },
  {
   "cell_type": "code",
   "execution_count": 14,
   "metadata": {},
   "outputs": [
    {
     "name": "stdout",
     "output_type": "stream",
     "text": [
      "Hello world!\n",
      "None\n"
     ]
    }
   ],
   "source": [
    "f = hello()\n",
    "print(f)"
   ]
  },
  {
   "cell_type": "markdown",
   "metadata": {},
   "source": [
    "Что и требовалось доказать, нужно быть аккуратнее с возвращаем значением, ведь если мф ожидаем от нашей функции число, а получим None, то программа сломается и мы не сможем производить с переменной никакие математические операции в дальнейшем коде."
   ]
  }
 ],
 "metadata": {
  "kernelspec": {
   "display_name": "Python 3",
   "language": "python",
   "name": "python3"
  },
  "language_info": {
   "codemirror_mode": {
    "name": "ipython",
    "version": 3
   },
   "file_extension": ".py",
   "mimetype": "text/x-python",
   "name": "python",
   "nbconvert_exporter": "python",
   "pygments_lexer": "ipython3",
   "version": "3.12.4"
  }
 },
 "nbformat": 4,
 "nbformat_minor": 2
}
